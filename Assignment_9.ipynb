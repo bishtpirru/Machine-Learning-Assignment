{
  "nbformat": 4,
  "nbformat_minor": 0,
  "metadata": {
    "colab": {
      "provenance": []
    },
    "kernelspec": {
      "name": "python3",
      "display_name": "Python 3"
    },
    "language_info": {
      "name": "python"
    }
  },
  "cells": [
    {
      "cell_type": "markdown",
      "source": [
        "**1. What is feature engineering, and how does it work? Explain the various aspects of feature engineering in depth.**\n",
        "\n",
        "**Ans:** Feature engineering is the process of selecting, manipulating, and transforming raw data into features that can be used in supervised learning. In order to make machine learning work well on new tasks, it might be necessary to design and train better features.\n",
        "\n",
        "Feature engineering in ML consists of four main steps: Feature Creation, Transformations, Feature Extraction, and Feature Selection. Feature engineering consists of creation, transformation, extraction, and selection of features, also known as variables, that are most conducive to creating an accurate ML algorithm."
      ],
      "metadata": {
        "id": "4bCtpGmEYrNB"
      }
    },
    {
      "cell_type": "markdown",
      "source": [
        "**2. What is feature selection, and how does it work? What is the aim of it? What are the various methods of function selection?**\n",
        "\n",
        "\n",
        "**Ans:** Feature Selection is the process where you automatically or manually select those features which contribute most to your prediction variable or output in which you are interested in. Having irrelevant features in your data can decrease the accuracy of the models and make your model learn based on irrelevant features.\n",
        "\n",
        "There are three types of feature selection:\n",
        "\n",
        "* Wrapper methods (forward, backward, and stepwise selection)\n",
        "\n",
        "* Filter methods (ANOVA, Pearson correlation, variance thresholding)\n",
        "\n",
        "* Embedded methods (Lasso, Ridge, Decision Tree)"
      ],
      "metadata": {
        "id": "GSoldfz-YrP6"
      }
    },
    {
      "cell_type": "markdown",
      "source": [
        "**3. Describe the function selection filter and wrapper approaches. State the pros and cons of each approach?**\n",
        "\n",
        "**Ans:** The main differences between the filter and wrapper methods for feature selection are: Filter methods measure the relevance of features by their correlation with dependent variable while wrapper methods measure the usefulness of a subset of feature by actually training a model on it.\n",
        "\n",
        "The filter method has the fastest running time; however, it does not consider feature dependencies and tends to each feature separately when univariate techniques are used. The wrapper method has the advantages of better generalization and robust interaction with the classifier used for feature selection."
      ],
      "metadata": {
        "id": "xyjJ9lp_YrSu"
      }
    },
    {
      "cell_type": "markdown",
      "source": [
        "**4. Please Answer the following Questions :**\n",
        "\n",
        "1.Describe the overall feature selection process.\n",
        "\n",
        "2.Explain the key underlying principle of feature extraction using an example. What are the most widely used function extraction algorithms?\n",
        "\n",
        "**Ans:** 1.Feature selection is the process of reducing the number of input variables when developing a predictive model. It is desirable to reduce the number of input variables to both reduce the computational cost of modeling and, in some cases, to improve the performance of the model.\n",
        "\n",
        "2."
      ],
      "metadata": {
        "id": "pDNurZVhYrWH"
      }
    },
    {
      "cell_type": "markdown",
      "source": [],
      "metadata": {
        "id": "tmCAI-Q0YrZJ"
      }
    },
    {
      "cell_type": "markdown",
      "source": [],
      "metadata": {
        "id": "iaXN_iK6Yrbx"
      }
    },
    {
      "cell_type": "markdown",
      "source": [],
      "metadata": {
        "id": "uvSR2744YsJt"
      }
    },
    {
      "cell_type": "markdown",
      "source": [],
      "metadata": {
        "id": "dL98d-n-YsNh"
      }
    },
    {
      "cell_type": "markdown",
      "source": [],
      "metadata": {
        "id": "h88dSP-OYsSH"
      }
    },
    {
      "cell_type": "markdown",
      "source": [],
      "metadata": {
        "id": "2XdJ99RKYsWF"
      }
    },
    {
      "cell_type": "markdown",
      "source": [],
      "metadata": {
        "id": "eLkVUHJcYsai"
      }
    }
  ]
}